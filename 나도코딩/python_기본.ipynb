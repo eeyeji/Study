{
 "cells": [
  {
   "attachments": {},
   "cell_type": "markdown",
   "metadata": {},
   "source": [
    "### 자료형:  자료의 형태\n",
    "- 숫자 자료형\n",
    "- 문자열 자료형\n",
    "- boolean 자료형(참, 거짓)"
   ]
  },
  {
   "attachments": {},
   "cell_type": "markdown",
   "metadata": {},
   "source": [
    "1. 숫자 자료형"
   ]
  },
  {
   "cell_type": "code",
   "execution_count": 61,
   "metadata": {},
   "outputs": [
    {
     "name": "stdout",
     "output_type": "stream",
     "text": [
      "5\n",
      "5의 데이터타입: <class 'int'>\n",
      "-10\n",
      "-10의 데이터타입: <class 'int'>\n",
      "3.14\n",
      "3.14의 데이터타입: <class 'float'>\n"
     ]
    }
   ],
   "source": [
    "print(5)\n",
    "print(\"5의 데이터타입:\", type(5))\n",
    "print(-10)\n",
    "print(\"-10의 데이터타입:\", type(-10))\n",
    "print(3.14)\n",
    "print(\"3.14의 데이터타입:\", type(3.14))"
   ]
  },
  {
   "cell_type": "code",
   "execution_count": 5,
   "metadata": {},
   "outputs": [
    {
     "name": "stdout",
     "output_type": "stream",
     "text": [
      "8\n",
      "16\n",
      "12\n"
     ]
    }
   ],
   "source": [
    "#연산\n",
    "print(5+3)\n",
    "print(2*8)\n",
    "print(3*(3+1))"
   ]
  },
  {
   "attachments": {},
   "cell_type": "markdown",
   "metadata": {},
   "source": [
    "2. 문자열 자료형"
   ]
  },
  {
   "cell_type": "code",
   "execution_count": 62,
   "metadata": {},
   "outputs": [
    {
     "name": "stdout",
     "output_type": "stream",
     "text": [
      "풍선\n",
      "풍선의 데이터타입: <class 'str'>\n",
      "ㅋㅋㅋㅋㅋㅋㅋㅋㅋ\n",
      "ㅋㅋㅋㅋㅋㅋㅋㅋㅋ\n"
     ]
    }
   ],
   "source": [
    "# '', \"\" 둘다 상관없음\n",
    "print('풍선')\n",
    "print('풍선의 데이터타입:', type('풍선'))\n",
    "print(\"ㅋㅋㅋㅋㅋㅋㅋㅋㅋ\")\n",
    "print(\"ㅋ\"*9)"
   ]
  },
  {
   "attachments": {},
   "cell_type": "markdown",
   "metadata": {},
   "source": [
    "3. boolean 자료형: 참/거짓"
   ]
  },
  {
   "cell_type": "code",
   "execution_count": 63,
   "metadata": {},
   "outputs": [
    {
     "name": "stdout",
     "output_type": "stream",
     "text": [
      "True\n",
      "True의 데이터타입: <class 'bool'>\n",
      "False\n",
      "False의 데이터타입: <class 'bool'>\n",
      "False\n",
      "True\n"
     ]
    }
   ],
   "source": [
    "print(True)\n",
    "print(\"True의 데이터타입:\", type(True))\n",
    "print(False)\n",
    "print(\"False의 데이터타입:\", type(False))\n",
    "print(5 > 10)\n",
    "print(5 < 10)"
   ]
  },
  {
   "cell_type": "code",
   "execution_count": 15,
   "metadata": {},
   "outputs": [
    {
     "name": "stdout",
     "output_type": "stream",
     "text": [
      "False\n",
      "True\n",
      "True\n"
     ]
    }
   ],
   "source": [
    "#not\n",
    "print(not True)\n",
    "print(not False)\n",
    "\n",
    "print(not (5 > 10))"
   ]
  },
  {
   "attachments": {},
   "cell_type": "markdown",
   "metadata": {},
   "source": [
    "### 변수"
   ]
  },
  {
   "cell_type": "code",
   "execution_count": 16,
   "metadata": {},
   "outputs": [
    {
     "name": "stdout",
     "output_type": "stream",
     "text": [
      "우리집 강아지의 이름은 연탄이에요.\n",
      "연탄이는 4살이며, 산책을 아주 좋아해요.\n",
      "연탄이는 어른일까요? True\n"
     ]
    }
   ],
   "source": [
    "#애완동물을 소개해 주세요\n",
    "print(\"우리집 강아지의 이름은 연탄이에요.\")\n",
    "print(\"연탄이는 4살이며, 산책을 아주 좋아해요.\")\n",
    "print(\"연탄이는 어른일까요? True\")"
   ]
  },
  {
   "attachments": {},
   "cell_type": "markdown",
   "metadata": {},
   "source": [
    "위와 같은 출력문에서 수시로 품종, 이름, 나이 등 변수가 계속 바뀌는 경우에 해줄 수 있는 작업은?\n",
    "- 변수를 설정해주기\n",
    "- 포맷팅 사용\n",
    "  - 변하는 값을 포함하는 문자열을 표현하기 위해 하나의 형식으로 문자열을 만드는 것\n",
    "\n",
    "주의!!\n",
    "- 여러문장을 합칠 경우에 '+' 혹은 ' , '를 이용할 수 있음\n",
    "  - ' , ' 이용시에는 무조건 뒤에 띄어쓰기 적용됨\n",
    "  - '+' 이용시에는 뒤에 붙여쓰기 적용됨"
   ]
  },
  {
   "cell_type": "code",
   "execution_count": 30,
   "metadata": {},
   "outputs": [
    {
     "name": "stdout",
     "output_type": "stream",
     "text": [
      "우리집 고양이의 이름은 해피(이)에요.\n",
      "해피는(은) 4살이며, 낮잠을(를) 아주 좋아해요.\n",
      "해피는 어른일까요? True\n"
     ]
    }
   ],
   "source": [
    "#변수 설정\n",
    "animal = \"고양이\"\n",
    "name = \"해피\"\n",
    "age = 4\n",
    "hobby = '낮잠'\n",
    "is_adult = age >= 3\n",
    "\n",
    "print(\"우리집 \" + animal + '의 이름은 ' + name + '(이)에요.')\n",
    "\n",
    "#주의!!\n",
    "#정수형같은 경우에는 '+'를 포함한 print문에서는 str()로 감싸줘야지 오류가 나지 않는다.\n",
    "#str()로 감싸주면 데이터 타입을 정수형에서 문자형으로 변환해줌\n",
    "print(name + '는(은) ' + str(age) + '살이며, ' + hobby + '을(를) 아주 좋아해요.')\n",
    "\n",
    "#boolean형도 str()로 감싸줘야지 오류가 나지 않는다.\n",
    "print(name + '는(은) 어른일까요? ' + str(is_adult))"
   ]
  },
  {
   "cell_type": "code",
   "execution_count": 29,
   "metadata": {},
   "outputs": [
    {
     "name": "stdout",
     "output_type": "stream",
     "text": [
      "우리집 고양이의 이름은 해피에요.\n",
      "해피는 4살이며, 공놀이을 아주 좋아해요.\n",
      "해피는 어른일까요? True\n"
     ]
    }
   ],
   "source": [
    "#포맷팅\n",
    "print(f\"우리집 {animal}의 이름은 {name}(이)에요.\")\n",
    "hobby = '공놀이'\n",
    "print(f\"{name}는(은) 4살이며, {hobby}을(를) 아주 좋아해요.\")\n",
    "print(f\"{name}는(은) 어른일까요? {is_adult}\")"
   ]
  },
  {
   "attachments": {},
   "cell_type": "markdown",
   "metadata": {},
   "source": [
    "### 주석\n",
    "- #한문장\n",
    "- ''' 여러문장 '''\n",
    "  - 여러문장 블럭 + ctrl + /"
   ]
  },
  {
   "attachments": {},
   "cell_type": "markdown",
   "metadata": {},
   "source": [
    "Quiz) 변수를 이용하여 다음 문장을 출력하시오\n",
    "- 변수명: station\n",
    "- 변수값: \"사당\", \"신도림\", \"인천공항\" 순서대로 입력\n",
    "- 출력 문장: XX행 열차가 들어오고 있습니다."
   ]
  },
  {
   "cell_type": "code",
   "execution_count": 32,
   "metadata": {},
   "outputs": [
    {
     "name": "stdout",
     "output_type": "stream",
     "text": [
      "사당행 열차가 들어오고 있습니다.\n"
     ]
    }
   ],
   "source": [
    "station = \"사당\"\n",
    "# station = \"신도림\"\n",
    "# station = \"인천공항\"\n",
    "print(station + '행 열차가 들어오고 있습니다.')"
   ]
  },
  {
   "attachments": {},
   "cell_type": "markdown",
   "metadata": {},
   "source": [
    "### 연산자"
   ]
  },
  {
   "cell_type": "code",
   "execution_count": 36,
   "metadata": {},
   "outputs": [
    {
     "name": "stdout",
     "output_type": "stream",
     "text": [
      "2\n",
      "1\n",
      "10\n",
      "2.0\n"
     ]
    }
   ],
   "source": [
    "print(1 + 1)\n",
    "print(3 - 2)\n",
    "print(5 * 2)\n",
    "print(6 / 3)"
   ]
  },
  {
   "cell_type": "code",
   "execution_count": 37,
   "metadata": {},
   "outputs": [
    {
     "name": "stdout",
     "output_type": "stream",
     "text": [
      "8\n",
      "2\n",
      "1\n"
     ]
    }
   ],
   "source": [
    "# 2^3 = 8\n",
    "print(2 ** 3)\n",
    "#나머지\n",
    "print(5 % 3)\n",
    "#몫\n",
    "print(5//3)"
   ]
  },
  {
   "cell_type": "code",
   "execution_count": 49,
   "metadata": {},
   "outputs": [
    {
     "name": "stdout",
     "output_type": "stream",
     "text": [
      "True\n",
      "False\n",
      "True\n",
      "True\n",
      "False\n",
      "False\n",
      "True\n",
      "True\n",
      "True\n",
      "True\n",
      "True\n",
      "False\n"
     ]
    }
   ],
   "source": [
    "#비교연산: True / False\n",
    "print(10 > 3)\n",
    "print(4 >= 7)\n",
    "print(3 == 3)\n",
    "print(3 + 4 == 7)\n",
    "print(3 != 3)\n",
    "\n",
    "print(5 > 4 > 3)\n",
    "print(5 > 4 > 7)\n",
    "\n",
    "#not\n",
    "print(not (3==3))\n",
    "\n",
    "#and\n",
    "print((3 > 0) and (3 < 5))\n",
    "print((3 > 0) & (3 < 5))\n",
    "\n",
    "#or\n",
    "print((3 > 0) or (3 > 5))\n",
    "print((3 > 0) | (3 > 5))"
   ]
  },
  {
   "cell_type": "code",
   "execution_count": 50,
   "metadata": {},
   "outputs": [
    {
     "name": "stdout",
     "output_type": "stream",
     "text": [
      "14\n",
      "20\n"
     ]
    }
   ],
   "source": [
    "#우선순위 연산\n",
    "print(2 + 3 * 4)\n",
    "print((2 + 3) * 4)"
   ]
  },
  {
   "cell_type": "code",
   "execution_count": 58,
   "metadata": {},
   "outputs": [
    {
     "name": "stdout",
     "output_type": "stream",
     "text": [
      "14\n",
      "16\n",
      "18\n",
      "36\n",
      "18.0\n",
      "16.0\n",
      "1.0\n"
     ]
    }
   ],
   "source": [
    "#변수 활용\n",
    "number = 2 + 3 * 4\n",
    "print(number)\n",
    "number = number + 2\n",
    "print(number)\n",
    "\n",
    "number += 2\n",
    "print(number)\n",
    "\n",
    "number *= 2\n",
    "print(number)\n",
    "\n",
    "number /= 2\n",
    "print(number)\n",
    "\n",
    "number -= 2\n",
    "print(number)\n",
    "\n",
    "number %= 5\n",
    "print(number)"
   ]
  },
  {
   "attachments": {},
   "cell_type": "markdown",
   "metadata": {},
   "source": [
    "### 숫자처리함수"
   ]
  },
  {
   "cell_type": "code",
   "execution_count": 69,
   "metadata": {},
   "outputs": [
    {
     "name": "stdout",
     "output_type": "stream",
     "text": [
      "abs-절대값: 5\n",
      "pow-n제곱: 16\n",
      "max-최대값: 12\n",
      "min-최소값: 5\n",
      "round-반올림: 3\n",
      "round-반올림: 5.0\n"
     ]
    }
   ],
   "source": [
    "#|-5| = 5\n",
    "print(\"abs-절대값:\", abs(-5))\n",
    "\n",
    "#4^2 = 4*4 = 16\n",
    "print(\"pow-n제곱:\", pow(4, 2))\n",
    "\n",
    "#최대값\n",
    "print(\"max-최대값:\", max(5, 12))\n",
    "\n",
    "#최소값\n",
    "print(\"min-최소값:\", min(5, 12))\n",
    "\n",
    "#반올림\n",
    "print(\"round-반올림:\", round(3.14))\n",
    "print(\"round-반올림:\", round(4.99, 1))"
   ]
  },
  {
   "cell_type": "code",
   "execution_count": 76,
   "metadata": {},
   "outputs": [
    {
     "name": "stdout",
     "output_type": "stream",
     "text": [
      "floor-내림 4\n",
      "ceil-올림: 4\n",
      "sqrt-제곱근: 4.0\n"
     ]
    }
   ],
   "source": [
    "#파이썬에서 제공하는 math 라이브러리 활용\n",
    "#math 라이브러리 안에 있는 모든 것을 이용하겠다. \n",
    "from math import *\n",
    "\n",
    "#내림\n",
    "print('floor-내림', floor(4.99))\n",
    "\n",
    "#올림\n",
    "print(\"ceil-올림:\", ceil(3.14))\n",
    "\n",
    "#제곱근\n",
    "print('sqrt-제곱근:', sqrt(16))"
   ]
  },
  {
   "attachments": {},
   "cell_type": "markdown",
   "metadata": {},
   "source": [
    "### 랜덤함수"
   ]
  },
  {
   "cell_type": "code",
   "execution_count": null,
   "metadata": {},
   "outputs": [],
   "source": []
  },
  {
   "cell_type": "code",
   "execution_count": null,
   "metadata": {},
   "outputs": [],
   "source": []
  }
 ],
 "metadata": {
  "kernelspec": {
   "display_name": "Python 3",
   "language": "python",
   "name": "python3"
  },
  "language_info": {
   "codemirror_mode": {
    "name": "ipython",
    "version": 3
   },
   "file_extension": ".py",
   "mimetype": "text/x-python",
   "name": "python",
   "nbconvert_exporter": "python",
   "pygments_lexer": "ipython3",
   "version": "3.9.12"
  },
  "orig_nbformat": 4,
  "vscode": {
   "interpreter": {
    "hash": "82ed002fa2d4956f5c6aec99bcefe0f73a9f79882f3c9e2319b14958a5896ac5"
   }
  }
 },
 "nbformat": 4,
 "nbformat_minor": 2
}
