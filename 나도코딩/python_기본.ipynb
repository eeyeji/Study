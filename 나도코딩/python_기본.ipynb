{
 "cells": [
  {
   "attachments": {},
   "cell_type": "markdown",
   "metadata": {},
   "source": [
    "### 자료형:  자료의 형태\n",
    "- 숫자 자료형\n",
    "- 문자열 자료형\n",
    "- boolean 자료형(참, 거짓)"
   ]
  },
  {
   "attachments": {},
   "cell_type": "markdown",
   "metadata": {},
   "source": [
    "1. 숫자 자료형"
   ]
  },
  {
   "cell_type": "code",
   "execution_count": 61,
   "metadata": {},
   "outputs": [
    {
     "name": "stdout",
     "output_type": "stream",
     "text": [
      "5\n",
      "5의 데이터타입: <class 'int'>\n",
      "-10\n",
      "-10의 데이터타입: <class 'int'>\n",
      "3.14\n",
      "3.14의 데이터타입: <class 'float'>\n"
     ]
    }
   ],
   "source": [
    "print(5)\n",
    "print(\"5의 데이터타입:\", type(5))\n",
    "print(-10)\n",
    "print(\"-10의 데이터타입:\", type(-10))\n",
    "print(3.14)\n",
    "print(\"3.14의 데이터타입:\", type(3.14))"
   ]
  },
  {
   "cell_type": "code",
   "execution_count": 5,
   "metadata": {},
   "outputs": [
    {
     "name": "stdout",
     "output_type": "stream",
     "text": [
      "8\n",
      "16\n",
      "12\n"
     ]
    }
   ],
   "source": [
    "#연산\n",
    "print(5+3)\n",
    "print(2*8)\n",
    "print(3*(3+1))"
   ]
  },
  {
   "attachments": {},
   "cell_type": "markdown",
   "metadata": {},
   "source": [
    "2. 문자열 자료형"
   ]
  },
  {
   "cell_type": "code",
   "execution_count": 62,
   "metadata": {},
   "outputs": [
    {
     "name": "stdout",
     "output_type": "stream",
     "text": [
      "풍선\n",
      "풍선의 데이터타입: <class 'str'>\n",
      "ㅋㅋㅋㅋㅋㅋㅋㅋㅋ\n",
      "ㅋㅋㅋㅋㅋㅋㅋㅋㅋ\n"
     ]
    }
   ],
   "source": [
    "# '', \"\" 둘다 상관없음\n",
    "print('풍선')\n",
    "print('풍선의 데이터타입:', type('풍선'))\n",
    "print(\"ㅋㅋㅋㅋㅋㅋㅋㅋㅋ\")\n",
    "print(\"ㅋ\"*9)"
   ]
  },
  {
   "attachments": {},
   "cell_type": "markdown",
   "metadata": {},
   "source": [
    "3. boolean 자료형: 참/거짓"
   ]
  },
  {
   "cell_type": "code",
   "execution_count": 63,
   "metadata": {},
   "outputs": [
    {
     "name": "stdout",
     "output_type": "stream",
     "text": [
      "True\n",
      "True의 데이터타입: <class 'bool'>\n",
      "False\n",
      "False의 데이터타입: <class 'bool'>\n",
      "False\n",
      "True\n"
     ]
    }
   ],
   "source": [
    "print(True)\n",
    "print(\"True의 데이터타입:\", type(True))\n",
    "print(False)\n",
    "print(\"False의 데이터타입:\", type(False))\n",
    "print(5 > 10)\n",
    "print(5 < 10)"
   ]
  },
  {
   "cell_type": "code",
   "execution_count": 15,
   "metadata": {},
   "outputs": [
    {
     "name": "stdout",
     "output_type": "stream",
     "text": [
      "False\n",
      "True\n",
      "True\n"
     ]
    }
   ],
   "source": [
    "#not: 결과값의 반대\n",
    "print(not True)\n",
    "print(not False)\n",
    "\n",
    "print(not (5 > 10))"
   ]
  },
  {
   "attachments": {},
   "cell_type": "markdown",
   "metadata": {},
   "source": [
    "### 변수"
   ]
  },
  {
   "cell_type": "code",
   "execution_count": 16,
   "metadata": {},
   "outputs": [
    {
     "name": "stdout",
     "output_type": "stream",
     "text": [
      "우리집 강아지의 이름은 연탄이에요.\n",
      "연탄이는 4살이며, 산책을 아주 좋아해요.\n",
      "연탄이는 어른일까요? True\n"
     ]
    }
   ],
   "source": [
    "#애완동물을 소개해 주세요\n",
    "print(\"우리집 강아지의 이름은 연탄이에요.\")\n",
    "print(\"연탄이는 4살이며, 산책을 아주 좋아해요.\")\n",
    "print(\"연탄이는 어른일까요? True\")"
   ]
  },
  {
   "attachments": {},
   "cell_type": "markdown",
   "metadata": {},
   "source": [
    "위와 같은 출력문에서 수시로 품종, 이름, 나이 등 변수가 계속 바뀌는 경우에 해줄 수 있는 작업은?\n",
    "- 변수를 설정해주기\n",
    "- 포맷팅 사용\n",
    "  - 변하는 값을 포함하는 문자열을 표현하기 위해 하나의 형식으로 문자열을 만드는 것\n",
    "\n",
    "주의!!\n",
    "- 여러문장을 합칠 경우에 '+' 혹은 ' , '를 이용할 수 있음\n",
    "  - ' , ' 이용시에는 무조건 뒤에 띄어쓰기 적용됨\n",
    "  - '+' 이용시에는 뒤에 붙여쓰기 적용됨"
   ]
  },
  {
   "cell_type": "code",
   "execution_count": 30,
   "metadata": {},
   "outputs": [
    {
     "name": "stdout",
     "output_type": "stream",
     "text": [
      "우리집 고양이의 이름은 해피(이)에요.\n",
      "해피는(은) 4살이며, 낮잠을(를) 아주 좋아해요.\n",
      "해피는 어른일까요? True\n"
     ]
    }
   ],
   "source": [
    "#변수 설정\n",
    "animal = \"고양이\"\n",
    "name = \"해피\"\n",
    "age = 4\n",
    "hobby = '낮잠'\n",
    "is_adult = age >= 3\n",
    "\n",
    "print(\"우리집 \" + animal + '의 이름은 ' + name + '(이)에요.')\n",
    "\n",
    "#주의!!\n",
    "#정수형같은 경우에는 '+'를 포함한 print문에서는 str()로 감싸줘야지 오류가 나지 않는다.\n",
    "#str()로 감싸주면 데이터 타입을 정수형에서 문자형으로 변환해줌\n",
    "print(name + '는(은) ' + str(age) + '살이며, ' + hobby + '을(를) 아주 좋아해요.')\n",
    "\n",
    "#boolean형도 str()로 감싸줘야지 오류가 나지 않는다.\n",
    "print(name + '는(은) 어른일까요? ' + str(is_adult))"
   ]
  },
  {
   "cell_type": "code",
   "execution_count": 29,
   "metadata": {},
   "outputs": [
    {
     "name": "stdout",
     "output_type": "stream",
     "text": [
      "우리집 고양이의 이름은 해피에요.\n",
      "해피는 4살이며, 공놀이을 아주 좋아해요.\n",
      "해피는 어른일까요? True\n"
     ]
    }
   ],
   "source": [
    "#포맷팅\n",
    "print(f\"우리집 {animal}의 이름은 {name}(이)에요.\")\n",
    "hobby = '공놀이'\n",
    "print(f\"{name}는(은) 4살이며, {hobby}을(를) 아주 좋아해요.\")\n",
    "print(f\"{name}는(은) 어른일까요? {is_adult}\")"
   ]
  },
  {
   "attachments": {},
   "cell_type": "markdown",
   "metadata": {},
   "source": [
    "### 주석\n",
    "- #한문장\n",
    "- ''' 여러문장 '''\n",
    "  - 여러문장 블럭 + ctrl + /"
   ]
  },
  {
   "attachments": {},
   "cell_type": "markdown",
   "metadata": {},
   "source": [
    "Quiz) 변수를 이용하여 다음 문장을 출력하시오\n",
    "- 변수명: station\n",
    "- 변수값: \"사당\", \"신도림\", \"인천공항\" 순서대로 입력\n",
    "- 출력 문장: XX행 열차가 들어오고 있습니다."
   ]
  },
  {
   "cell_type": "code",
   "execution_count": 32,
   "metadata": {},
   "outputs": [
    {
     "name": "stdout",
     "output_type": "stream",
     "text": [
      "사당행 열차가 들어오고 있습니다.\n"
     ]
    }
   ],
   "source": [
    "station = \"사당\"\n",
    "# station = \"신도림\"\n",
    "# station = \"인천공항\"\n",
    "print(station + '행 열차가 들어오고 있습니다.')"
   ]
  },
  {
   "attachments": {},
   "cell_type": "markdown",
   "metadata": {},
   "source": [
    "### 연산자"
   ]
  },
  {
   "cell_type": "code",
   "execution_count": 36,
   "metadata": {},
   "outputs": [
    {
     "name": "stdout",
     "output_type": "stream",
     "text": [
      "2\n",
      "1\n",
      "10\n",
      "2.0\n"
     ]
    }
   ],
   "source": [
    "print(1 + 1)\n",
    "print(3 - 2)\n",
    "print(5 * 2)\n",
    "print(6 / 3)"
   ]
  },
  {
   "cell_type": "code",
   "execution_count": 37,
   "metadata": {},
   "outputs": [
    {
     "name": "stdout",
     "output_type": "stream",
     "text": [
      "8\n",
      "2\n",
      "1\n"
     ]
    }
   ],
   "source": [
    "# 2^3 = 8\n",
    "print(2 ** 3)\n",
    "#나머지\n",
    "print(5 % 3)\n",
    "#몫\n",
    "print(5//3)"
   ]
  },
  {
   "cell_type": "code",
   "execution_count": 49,
   "metadata": {},
   "outputs": [
    {
     "name": "stdout",
     "output_type": "stream",
     "text": [
      "True\n",
      "False\n",
      "True\n",
      "True\n",
      "False\n",
      "False\n",
      "True\n",
      "True\n",
      "True\n",
      "True\n",
      "True\n",
      "False\n"
     ]
    }
   ],
   "source": [
    "#비교연산: True / False\n",
    "print(10 > 3)\n",
    "print(4 >= 7)\n",
    "print(3 == 3)\n",
    "print(3 + 4 == 7)\n",
    "print(3 != 3)\n",
    "\n",
    "print(5 > 4 > 3)\n",
    "print(5 > 4 > 7)\n",
    "\n",
    "#not\n",
    "print(not (3==3))\n",
    "\n",
    "#and\n",
    "print((3 > 0) and (3 < 5))\n",
    "print((3 > 0) & (3 < 5))\n",
    "\n",
    "#or\n",
    "print((3 > 0) or (3 > 5))\n",
    "print((3 > 0) | (3 > 5))"
   ]
  },
  {
   "cell_type": "code",
   "execution_count": 50,
   "metadata": {},
   "outputs": [
    {
     "name": "stdout",
     "output_type": "stream",
     "text": [
      "14\n",
      "20\n"
     ]
    }
   ],
   "source": [
    "#우선순위 연산\n",
    "print(2 + 3 * 4)\n",
    "print((2 + 3) * 4)"
   ]
  },
  {
   "cell_type": "code",
   "execution_count": 58,
   "metadata": {},
   "outputs": [
    {
     "name": "stdout",
     "output_type": "stream",
     "text": [
      "14\n",
      "16\n",
      "18\n",
      "36\n",
      "18.0\n",
      "16.0\n",
      "1.0\n"
     ]
    }
   ],
   "source": [
    "#변수 활용\n",
    "number = 2 + 3 * 4\n",
    "print(number)\n",
    "number = number + 2\n",
    "print(number)\n",
    "\n",
    "number += 2\n",
    "print(number)\n",
    "\n",
    "number *= 2\n",
    "print(number)\n",
    "\n",
    "number /= 2\n",
    "print(number)\n",
    "\n",
    "number -= 2\n",
    "print(number)\n",
    "\n",
    "number %= 5\n",
    "print(number)"
   ]
  },
  {
   "attachments": {},
   "cell_type": "markdown",
   "metadata": {},
   "source": [
    "### 숫자 처리 함수"
   ]
  },
  {
   "cell_type": "code",
   "execution_count": 69,
   "metadata": {},
   "outputs": [
    {
     "name": "stdout",
     "output_type": "stream",
     "text": [
      "abs-절대값: 5\n",
      "pow-n제곱: 16\n",
      "max-최대값: 12\n",
      "min-최소값: 5\n",
      "round-반올림: 3\n",
      "round-반올림: 5.0\n"
     ]
    }
   ],
   "source": [
    "#|-5| = 5\n",
    "print(\"abs-절대값:\", abs(-5))\n",
    "\n",
    "#4^2 = 4*4 = 16\n",
    "print(\"pow-n제곱:\", pow(4, 2))\n",
    "\n",
    "#최대값\n",
    "print(\"max-최대값:\", max(5, 12))\n",
    "\n",
    "#최소값\n",
    "print(\"min-최소값:\", min(5, 12))\n",
    "\n",
    "#반올림\n",
    "print(\"round-반올림:\", round(3.14))\n",
    "print(\"round-반올림:\", round(4.99, 1))"
   ]
  },
  {
   "cell_type": "code",
   "execution_count": 76,
   "metadata": {},
   "outputs": [
    {
     "name": "stdout",
     "output_type": "stream",
     "text": [
      "floor-내림 4\n",
      "ceil-올림: 4\n",
      "sqrt-제곱근: 4.0\n"
     ]
    }
   ],
   "source": [
    "#파이썬에서 제공하는 math 라이브러리 활용\n",
    "#math 라이브러리 안에 있는 모든 것을 이용하겠다. \n",
    "from math import *\n",
    "\n",
    "#내림\n",
    "print('floor-내림', floor(4.99))\n",
    "\n",
    "#올림\n",
    "print(\"ceil-올림:\", ceil(3.14))\n",
    "\n",
    "#제곱근\n",
    "print('sqrt-제곱근:', sqrt(16))"
   ]
  },
  {
   "attachments": {},
   "cell_type": "markdown",
   "metadata": {},
   "source": [
    "### 랜덤함수\n",
    "- 랜덤: 난수, 무작위로 숫자를 뽑아줌"
   ]
  },
  {
   "cell_type": "code",
   "execution_count": 8,
   "metadata": {},
   "outputs": [
    {
     "name": "stdout",
     "output_type": "stream",
     "text": [
      "0.6861340094998566\n",
      "3.3119318881380777\n",
      "9\n",
      "8\n",
      "14\n",
      "45\n",
      "16\n"
     ]
    }
   ],
   "source": [
    "from random import *\n",
    "\n",
    "#0.0이상 1.0미만의 임의의 값 생성\n",
    "print(random())\n",
    "\n",
    "#0.0이상 10.0미만의 임의의 값 생성\n",
    "print(random()*10)\n",
    "\n",
    "#정수형만 \n",
    "print(int(random()*10))\n",
    "\n",
    "#1이상 10이하의 임의의 값 생성\n",
    "print(int(random()*10)+1)\n",
    "\n",
    "#1이상 45이하의 임의의 값 생성\n",
    "print(int(random()*45)+1)\n",
    "\n",
    "#1이상 46미만의 임의의 값 생성\n",
    "print(randrange(1, 46))\n",
    "\n",
    "#1이상 45이하의 임의의 값 생성\n",
    "print(randint(1, 45))"
   ]
  },
  {
   "attachments": {},
   "cell_type": "markdown",
   "metadata": {},
   "source": [
    "Quiz) 당신은 최근에 코딩 스터디 모임을 새로 만들었습니다.\n",
    "- 월 4회 스터디를 하는데 3번은 온라인으로 하고 1번은 오프라인으로 하기로 했습니다.\n",
    "- 아래 조건에 맞는 오프라인 모임 날짜를 정해주는 프로그램을 작성하시오.\n",
    "\n",
    "1. 랜덤으로 날짜를 뽑아야 함\n",
    "2. 월별 날짜는 다름을 감안하여 최소 일수인 28 이내로 정함\n",
    "3. 매월 1~3일은 스터디 준비를 해야 하므로 제외\n",
    "\n",
    "출력문 예제\n",
    "- 오프라인 스터디 모임 날짜는 매월 x일로 선정되었습니다."
   ]
  },
  {
   "cell_type": "code",
   "execution_count": 10,
   "metadata": {},
   "outputs": [
    {
     "name": "stdout",
     "output_type": "stream",
     "text": [
      "오프라인 스터디 모임 날짜는 매월 13일로 선정되었습니다.\n"
     ]
    }
   ],
   "source": [
    "date = randint(4, 28)\n",
    "print('오프라인 스터디 모임 날짜는 매월', str(date) + '일로 선정되었습니다.')"
   ]
  },
  {
   "attachments": {},
   "cell_type": "markdown",
   "metadata": {},
   "source": [
    "### 문자열"
   ]
  },
  {
   "cell_type": "code",
   "execution_count": 18,
   "metadata": {},
   "outputs": [
    {
     "name": "stdout",
     "output_type": "stream",
     "text": [
      "나는 소년입니다.\n",
      "파이썬은 쉬워요\n",
      "나는 소년이고,\n",
      "파이썬은 쉬워요!\n"
     ]
    }
   ],
   "source": [
    "sentence = '나는 소년입니다.'\n",
    "print(sentence)\n",
    "sentence2 = \"파이썬은 쉬워요\"\n",
    "print(sentence2)\n",
    "sentence3 = \"\"\"나는 소년이고,\n",
    "파이썬은 쉬워요!\"\"\"\n",
    "print(sentence3)"
   ]
  },
  {
   "attachments": {},
   "cell_type": "markdown",
   "metadata": {},
   "source": [
    "### 슬라이싱"
   ]
  },
  {
   "cell_type": "code",
   "execution_count": 29,
   "metadata": {},
   "outputs": [
    {
     "name": "stdout",
     "output_type": "stream",
     "text": [
      "성별: 1\n",
      "연: 99\n",
      "월: 01\n",
      "일: 20\n",
      "생년월일: 990120\n",
      "뒤 7자리: 1234567\n",
      "뒤 7자리(뒤에서부터): 1234567\n"
     ]
    }
   ],
   "source": [
    "jumin = \"990120-1234567\"\n",
    "print(\"성별: \" + jumin[7])\n",
    "\n",
    "#0부터 2직전까지(0~1)\n",
    "print(\"연: \" + jumin[0:2])\n",
    "print(\"월: \" + jumin[2:4])\n",
    "print(\"일: \" + jumin[4:6])\n",
    "\n",
    "#처음부터 6직전까지(0~5)\n",
    "print(\"생년월일: \" + jumin[:6])\n",
    "\n",
    "#7부터 끝까지(7~)\n",
    "print(\"뒤 7자리: \" + jumin[7:])\n",
    "\n",
    "#7부터 끝까지(7~)\n",
    "print(\"뒤 7자리(뒤에서부터): \" + jumin[-7:])"
   ]
  },
  {
   "attachments": {},
   "cell_type": "markdown",
   "metadata": {},
   "source": [
    "### 문자열 처리 함수"
   ]
  },
  {
   "cell_type": "code",
   "execution_count": 37,
   "metadata": {},
   "outputs": [
    {
     "name": "stdout",
     "output_type": "stream",
     "text": [
      "python is amazing\n",
      "PYTHON IS AMAZING\n",
      "True\n"
     ]
    }
   ],
   "source": [
    "python = \"Python is Amazing\"\n",
    "#모든 문자 소문자\n",
    "print(python.lower())\n",
    "#모든 문자 대문자\n",
    "print(python.upper())\n",
    "#첫번째 문자가 대문자인지 확인\n",
    "print(python[0].isupper())"
   ]
  },
  {
   "cell_type": "code",
   "execution_count": 38,
   "metadata": {},
   "outputs": [
    {
     "name": "stdout",
     "output_type": "stream",
     "text": [
      "17\n"
     ]
    }
   ],
   "source": [
    "#문자열 길이 확인\n",
    "print(len(python))"
   ]
  },
  {
   "cell_type": "code",
   "execution_count": 39,
   "metadata": {},
   "outputs": [
    {
     "name": "stdout",
     "output_type": "stream",
     "text": [
      "Java is Amazing\n"
     ]
    }
   ],
   "source": [
    "#특정문자 변경\n",
    "print(python.replace('Python', 'Java'))"
   ]
  },
  {
   "cell_type": "code",
   "execution_count": 43,
   "metadata": {},
   "outputs": [
    {
     "name": "stdout",
     "output_type": "stream",
     "text": [
      "5\n",
      "15\n"
     ]
    }
   ],
   "source": [
    "#특정문자의 첫번째 위치 확인\n",
    "index = python.index('n')\n",
    "print(index)\n",
    "\n",
    "#특정문자의 두번째 위치 확인\n",
    "index = python.index('n', index+1)\n",
    "print(index)\n",
    "\n",
    "#index()함수 사용시 원하는 값이 변수에 포함되어 있지 않은 경우에는 오류남\n",
    "#print(python.inedx('Java'))"
   ]
  },
  {
   "cell_type": "code",
   "execution_count": 42,
   "metadata": {},
   "outputs": [
    {
     "name": "stdout",
     "output_type": "stream",
     "text": [
      "5\n",
      "-1\n"
     ]
    }
   ],
   "source": [
    "#특정문자의 위치 확인\n",
    "print(python.find('n'))\n",
    "\n",
    "#find()함수 사용시 원하는 값이 변수에 포함되어 있지 않은 경우에는 -1 반환\n",
    "print(python.find('Java'))"
   ]
  },
  {
   "cell_type": "code",
   "execution_count": 41,
   "metadata": {},
   "outputs": [
    {
     "name": "stdout",
     "output_type": "stream",
     "text": [
      "2\n"
     ]
    }
   ],
   "source": [
    "#특정문자가 몇 번 들어가 있는지 확인\n",
    "print(python.count(\"n\"))"
   ]
  },
  {
   "attachments": {},
   "cell_type": "markdown",
   "metadata": {},
   "source": [
    "### 문자열 포맷"
   ]
  },
  {
   "cell_type": "code",
   "execution_count": 55,
   "metadata": {},
   "outputs": [
    {
     "name": "stdout",
     "output_type": "stream",
     "text": [
      "나는 20살입니다.\n",
      "나는 파이썬을 좋아해요.\n",
      "나는 20살입니다.\n",
      "Apple은 A로 시작해요.\n",
      "나는 파란색과 빨간색을 좋아해요.\n"
     ]
    }
   ],
   "source": [
    "#방법 1\n",
    "\n",
    "#%d: 정수\n",
    "print('나는 %d살입니다.' %20)\n",
    "\n",
    "#%s: 문자열 -> 정수든 하나의 문자이든 모두 출력가능하다.\n",
    "print('나는 %s을 좋아해요.' %\"파이썬\")\n",
    "print('나는 %s살입니다.' %20)\n",
    "\n",
    "#%c: 하나의 문자\n",
    "print('Apple은 %c로 시작해요.' %\"A\")\n",
    "\n",
    "#2개 이상 포맷팅 할 때\n",
    "print('나는 %s색과 %s색을 좋아해요.' %('파란', '빨간'))"
   ]
  },
  {
   "cell_type": "code",
   "execution_count": 61,
   "metadata": {},
   "outputs": [
    {
     "name": "stdout",
     "output_type": "stream",
     "text": [
      "나는 20살입니다.\n",
      "나는 파란색과 빨간색을 좋아해요.\n",
      "나는 파란색과 빨간색을 좋아해요.\n",
      "나는 빨간색과 파란색을 좋아해요.\n"
     ]
    }
   ],
   "source": [
    "#방법 2\n",
    "\n",
    "print('나는 {}살입니다.'.format(20))\n",
    "\n",
    "print('나는 {}색과 {}색을 좋아해요.'.format('파란', '빨간'))\n",
    "\n",
    "print('나는 {0}색과 {1}색을 좋아해요.'.format('파란', '빨간'))\n",
    "print('나는 {1}색과 {0}색을 좋아해요.'.format('파란', '빨간'))"
   ]
  },
  {
   "cell_type": "code",
   "execution_count": 62,
   "metadata": {},
   "outputs": [
    {
     "name": "stdout",
     "output_type": "stream",
     "text": [
      "나는 20살이며, 빨간색을 좋아해요\n"
     ]
    }
   ],
   "source": [
    "#방법 3\n",
    "print('나는 {age}살이며, {color}색을 좋아해요'.format(age = 20, color = '빨간'))\n",
    "\n",
    "print('나는 {age}살이며, {color}색을 좋아해요'.format(color = '빨간', age = 20))"
   ]
  },
  {
   "cell_type": "code",
   "execution_count": 63,
   "metadata": {},
   "outputs": [
    {
     "name": "stdout",
     "output_type": "stream",
     "text": [
      "나는 20살이며, 빨간색을 좋아해요\n"
     ]
    }
   ],
   "source": [
    "#방법 4(python v.3.6이상부터 가능)\n",
    "age = 20\n",
    "color ='빨간'\n",
    "print(f'나는 {age}살이며, {color}색을 좋아해요')"
   ]
  },
  {
   "attachments": {},
   "cell_type": "markdown",
   "metadata": {},
   "source": [
    "### 탈출 문자"
   ]
  },
  {
   "cell_type": "code",
   "execution_count": 77,
   "metadata": {},
   "outputs": [
    {
     "name": "stdout",
     "output_type": "stream",
     "text": [
      "백문이 불여일견 백견이 불여일타\n",
      "백문이 불여일견\n",
      "백견이 불여일타\n",
      "저는 \"나도코딩\"입니다.\n",
      "저는 '나도코딩'입니다.\n",
      "저는 \"나도코딩\"입니다.\n",
      "저는 '나도코딩'입니다.\n",
      "C:\\Users\\이예지\\Desktop\\Study\\나도코딩>\n",
      "PineApple\n",
      "RedApple\n",
      "Red\tApple\n"
     ]
    }
   ],
   "source": [
    "print('백문이 불여일견 백견이 불여일타')\n",
    "\n",
    "#\\n: 줄바꿈\n",
    "print('백문이 불여일견\\n백견이 불여일타')\n",
    "\n",
    "#저는 \"나도코딩\"입니다.\n",
    "print('저는 \"나도코딩\"입니다.')\n",
    "print(\"저는 '나도코딩'입니다.\")\n",
    "\n",
    "#\\\", \\': 문장 내에서 따옴표\n",
    "print(\"저는 \\\"나도코딩\\\"입니다.\")\n",
    "print(\"저는 \\'나도코딩\\'입니다.\")\n",
    "\n",
    "#\\\\: 문장 내에서 \\\n",
    "print(\"C:\\\\Users\\\\이예지\\\\Desktop\\\\Study\\\\나도코딩>\")\n",
    "\n",
    "#\\r: 커서를 맨 앞으로 이동\n",
    "print(\"Red Apple\\rPine\")\n",
    "\n",
    "#\\b: 백스페이스(한 글자 삭제)\n",
    "print('Redd\\bApple')\n",
    "\n",
    "#\\t: tab(탭)\n",
    "print(\"Red\\tApple\")"
   ]
  },
  {
   "attachments": {},
   "cell_type": "markdown",
   "metadata": {},
   "source": [
    "Quiz) 사이트별로 비밀번호를 만들어 주는 프로그램을 작성하시오\n",
    "\n",
    "예) http://naver.com\n",
    "1. http:// 부분은 제외 -> naver.com\n",
    "2. 처음 만나는 점(.) 이후 부분은 제외 -> naver\n",
    "3. 남은 글자 중 처음 세자리 + 글자 갯수 + 글자 내 'e' 갯수 + '!'로 구성\n",
    "-           (nav)              (5)         (1)       (!)\n",
    "예)생성된 비밀번호: nav51!"
   ]
  },
  {
   "cell_type": "code",
   "execution_count": 116,
   "metadata": {},
   "outputs": [
    {
     "name": "stdout",
     "output_type": "stream",
     "text": [
      "생성된 비밀번호: nav51!\n"
     ]
    }
   ],
   "source": [
    "url=\"http://naver.com\"\n",
    "site = url[7:]\n",
    "dot_position=site.index('.')\n",
    "pw_sentence=site[:dot_position]\n",
    "\n",
    "print(\"생성된 비밀번호: \" + pw_sentence[:3] + str(len(pw_sentence)) + str(pw_sentence.count('e')) + '!')"
   ]
  },
  {
   "cell_type": "code",
   "execution_count": 95,
   "metadata": {},
   "outputs": [
    {
     "name": "stdout",
     "output_type": "stream",
     "text": [
      "daum.net\n",
      "daum\n",
      "http://daum.net의 비밀번호는 dau40!입니다.\n"
     ]
    }
   ],
   "source": [
    "#url=\"http://naver.com\"\n",
    "url = \"http://daum.net\"\n",
    "\n",
    "#규칙 1\n",
    "my_str = url.replace(\"http://\", '')\n",
    "print(my_str)\n",
    "\n",
    "#규칙 2\n",
    "my_str = my_str[:my_str.index('.')]\n",
    "print(my_str)\n",
    "\n",
    "#규칙 3\n",
    "password = my_str[:3] + str(len(my_str)) + str(my_str.count('e')) + '!'\n",
    "print(f\"{url}의 비밀번호는 {password}입니다.\")"
   ]
  },
  {
   "attachments": {},
   "cell_type": "markdown",
   "metadata": {},
   "source": [
    "### 리스트: [ ]\n",
    "- 순서를 가지는 객체의 집합"
   ]
  },
  {
   "cell_type": "code",
   "execution_count": 115,
   "metadata": {},
   "outputs": [
    {
     "name": "stdout",
     "output_type": "stream",
     "text": [
      "[10, 20, 30]\n"
     ]
    }
   ],
   "source": [
    "#지하철 칸별로 10명, 20명, 30명\n",
    "subway1 = 10\n",
    "subway2 = 20\n",
    "subway3 = 30\n",
    "\n",
    "subway = [10, 20, 30]\n",
    "print(subway)"
   ]
  },
  {
   "cell_type": "code",
   "execution_count": 111,
   "metadata": {},
   "outputs": [
    {
     "name": "stdout",
     "output_type": "stream",
     "text": [
      "['유재석', '조세호', '박명수']\n",
      "1\n",
      "['유재석', '조세호', '박명수', '하하']\n",
      "['유재석', '정형돈', '조세호', '박명수', '하하']\n",
      "하하 내림\n",
      "['유재석', '정형돈', '조세호', '박명수']\n",
      "박명수 내림\n",
      "['유재석', '정형돈', '조세호']\n",
      "조세호 내림\n",
      "['유재석', '정형돈']\n",
      "['유재석', '정형돈', '유재석']\n",
      "유재석은 몇 명인가? 2명\n"
     ]
    }
   ],
   "source": [
    "subway = ['유재석', '조세호', '박명수']\n",
    "print(subway)\n",
    "\n",
    "#조세호가 몇 번째 칸에 타고 있는가?\n",
    "print(subway.index('조세호'))\n",
    "\n",
    "#다음 정류장에서 하하가 탐\n",
    "subway.append('하하')\n",
    "print(subway)\n",
    "\n",
    "#정형돈을 유재석과 조세호 사이에 태움\n",
    "subway.insert(1, \"정형돈\")\n",
    "print(subway)\n",
    "\n",
    "#지하철에 있는 사람을 한 명씩 뒤에서 꺼냄\n",
    "#pop()\n",
    "print(subway.pop(), '내림')\n",
    "print(subway)\n",
    "\n",
    "print(subway.pop(), '내림')\n",
    "print(subway)\n",
    "\n",
    "print(subway.pop(), '내림')\n",
    "print(subway)\n",
    "\n",
    "#같은 이름의 사람이 몇 명 있는지 확인\n",
    "subway.append('유재석')\n",
    "print(subway)\n",
    "print('유재석은 몇 명인가?', str(subway.count('유재석')) + '명')"
   ]
  },
  {
   "cell_type": "code",
   "execution_count": 112,
   "metadata": {},
   "outputs": [
    {
     "name": "stdout",
     "output_type": "stream",
     "text": [
      "[1, 2, 3, 4, 5]\n",
      "[5, 4, 3, 2, 1]\n",
      "[]\n"
     ]
    }
   ],
   "source": [
    "#정렬\n",
    "#오름차순\n",
    "num_list = [5, 2, 4, 3, 1]\n",
    "num_list.sort()\n",
    "print(num_list)\n",
    "\n",
    "#내림차순\n",
    "num_list.reverse()\n",
    "print(num_list)\n",
    "\n",
    "#모두 지우기\n",
    "num_list.clear()\n",
    "print(num_list)"
   ]
  },
  {
   "cell_type": "code",
   "execution_count": 113,
   "metadata": {},
   "outputs": [
    {
     "name": "stdout",
     "output_type": "stream",
     "text": [
      "['조세호', 20, True]\n"
     ]
    }
   ],
   "source": [
    "#다양한 자료형 함께 사용 가능\n",
    "mix_list = ['조세호', 20, True]\n",
    "print(mix_list)"
   ]
  },
  {
   "cell_type": "code",
   "execution_count": 114,
   "metadata": {},
   "outputs": [
    {
     "name": "stdout",
     "output_type": "stream",
     "text": [
      "[5, 2, 4, 3, 1, '조세호', 20, True]\n"
     ]
    }
   ],
   "source": [
    "#리스트 확장\n",
    "num_list = [5, 2, 4, 3, 1]\n",
    "mix_list = ['조세호', 20, True]\n",
    "num_list.extend(mix_list)\n",
    "print(num_list)"
   ]
  },
  {
   "attachments": {},
   "cell_type": "markdown",
   "metadata": {},
   "source": [
    "### 사전: Dictionary{key :value}"
   ]
  },
  {
   "cell_type": "code",
   "execution_count": 130,
   "metadata": {},
   "outputs": [
    {
     "name": "stdout",
     "output_type": "stream",
     "text": [
      "유재석\n",
      "김태호pd\n",
      "유재석\n",
      "None\n",
      "사용 가능한 캐비닛입니다.\n",
      "Hi\n",
      "True\n",
      "False\n"
     ]
    }
   ],
   "source": [
    "cabinet = {3 : '유재석', 100 : '김태호pd'}\n",
    "print(cabinet[3])\n",
    "print(cabinet[100])\n",
    "\n",
    "print(cabinet.get(3))\n",
    "\n",
    "#[]로 이용하여 값을 가져올 때 없는 키를 이용하여 값을 불러오는 경우에는 오류가 나면서 프로그램이 종료됨 \n",
    "# -> Hi가 출력되지 못함\n",
    "#print(cabinet[5])\n",
    "#print(\"Hi\")\n",
    "\n",
    "#.get()을 이용하여 값을 가져올 때 없는 키를 이용하여 값을 불러오는 경우에는  None이 출력되고 계속해서 진행됨 \n",
    "# -> Hi가 출력됨\n",
    "print(cabinet.get(5))\n",
    "#None말고 다른 출력문을 원할 경우\n",
    "print(cabinet.get(5, '사용 가능한 캐비닛입니다.'))\n",
    "print(\"Hi\")\n",
    "\n",
    "#사전 자료형 안에 어떤 값이 있는지 확인하는 방법\n",
    "print(3 in cabinet)\n",
    "print(5 in cabinet)"
   ]
  },
  {
   "cell_type": "code",
   "execution_count": 147,
   "metadata": {},
   "outputs": [
    {
     "name": "stdout",
     "output_type": "stream",
     "text": [
      "유재석\n",
      "김태호pd\n",
      "{'A-3': '유재석', 'B-100': '김태호pd'}\n",
      "{'A-3': '유재석', 'B-100': '김태호pd', 'C-20': '조세호'}\n",
      "{'A-3': '유재석', 'B-100': '김태호pd', 'C-20': '김종국'}\n",
      "{'B-100': '김태호pd', 'C-20': '김종국'}\n",
      "dict_keys(['B-100', 'C-20'])\n",
      "dict_values(['김태호pd', '김종국'])\n",
      "dict_items([('B-100', '김태호pd'), ('C-20', '김종국')])\n",
      "{}\n"
     ]
    }
   ],
   "source": [
    "#정수형이 아닌 문자형도 키로 사용할 수 있다.\n",
    "cabinet = {'A-3' : '유재석', 'B-100' : '김태호pd'}\n",
    "print(cabinet['A-3'])\n",
    "print(cabinet['B-100'])\n",
    "\n",
    "print(cabinet)\n",
    "\n",
    "#새 손님을 위한 새로운 캐비닛 할당\n",
    "cabinet['C-20'] = \"조세호\"\n",
    "print(cabinet)\n",
    "\n",
    "#사용중이던 캐비닛 다른 손님으로 업데이트\n",
    "cabinet['C-20'] = \"김종국\"\n",
    "print(cabinet)\n",
    "\n",
    "#값 삭제\n",
    "#사용종료가 된 캐비닛\n",
    "del cabinet['A-3']\n",
    "print(cabinet)\n",
    "\n",
    "#key들만 출력\n",
    "#사용중인 캐비닛만 알아보기\n",
    "print(cabinet.keys())\n",
    "\n",
    "#value들만 출력\n",
    "#캐비닛을 사용하고 있는 사람들 알아보기\n",
    "print(cabinet.values())\n",
    "\n",
    "#key, value 쌍으로 출력\n",
    "print(cabinet.items())\n",
    "\n",
    "#모든 값 삭제\n",
    "cabinet.clear()\n",
    "print(cabinet)"
   ]
  },
  {
   "attachments": {},
   "cell_type": "markdown",
   "metadata": {},
   "source": [
    "### 튜플\n",
    "- 리스트와 다르게 내용변경 혹은 추가를 할 수 없다.\n",
    "- 속도가 리스트보다 빠르다.\n",
    "- 변경되지 않는 목록을 사용할 때 튜플을 사용함\n",
    "- "
   ]
  },
  {
   "cell_type": "code",
   "execution_count": 149,
   "metadata": {},
   "outputs": [
    {
     "name": "stdout",
     "output_type": "stream",
     "text": [
      "('돈가스', '치즈돈가스')\n",
      "돈가스\n",
      "치즈돈가스\n"
     ]
    }
   ],
   "source": [
    "menu = ('돈가스', '치즈돈가스')\n",
    "print(menu)\n",
    "print(menu[0])\n",
    "print(menu[1])\n",
    "\n",
    "#값 추가 불가능 -> 오류남\n",
    "#menu.add(\"생선가스\")"
   ]
  },
  {
   "cell_type": "code",
   "execution_count": 150,
   "metadata": {},
   "outputs": [
    {
     "name": "stdout",
     "output_type": "stream",
     "text": [
      "김종국 20 코딩\n",
      "김종국 20 코딩\n"
     ]
    }
   ],
   "source": [
    "name = '김종국'\n",
    "age = 20\n",
    "hobby = '코딩'\n",
    "print(name, age, hobby)\n",
    "\n",
    "(name, age, hobby) = ('김종국', 20, '코딩')\n",
    "print(name, age, hobby)"
   ]
  },
  {
   "attachments": {},
   "cell_type": "markdown",
   "metadata": {},
   "source": [
    "### 세트(집합)\n",
    "- 중복이 안되고 순서가 없다."
   ]
  },
  {
   "cell_type": "code",
   "execution_count": 152,
   "metadata": {},
   "outputs": [
    {
     "name": "stdout",
     "output_type": "stream",
     "text": [
      "{1, 2, 3}\n"
     ]
    }
   ],
   "source": [
    "#중복 안됨\n",
    "my_set = {1, 2, 3, 3, 3}\n",
    "print(my_set)"
   ]
  },
  {
   "cell_type": "code",
   "execution_count": 160,
   "metadata": {},
   "outputs": [
    {
     "name": "stdout",
     "output_type": "stream",
     "text": [
      "{'유재석'}\n",
      "{'유재석'}\n",
      "{'박명수', '양세형', '유재석', '김태호'}\n",
      "{'박명수', '양세형', '유재석', '김태호'}\n",
      "{'양세형', '김태호'}\n",
      "{'양세형', '김태호'}\n",
      "{'유재석', '김태호', '박명수'}\n",
      "{'양세형', '유재석'}\n"
     ]
    }
   ],
   "source": [
    "java = {'유재석', '김태호', '양세형'}\n",
    "python = set(['유재석', '박명수'])\n",
    "\n",
    "#교집합 - .intersection()\n",
    "#java와 python 모두 할 수 있는 개발자\n",
    "print(java&python)\n",
    "print(java.intersection(python))\n",
    "\n",
    "#합집합 - union()\n",
    "#java를 할 수 있거나 python을 할 수 있는 개발자\n",
    "print(java | python)\n",
    "print(java.union(python))\n",
    "\n",
    "#차집합 - difference\n",
    "#java만 할 수 있는 개발자\n",
    "print(java - python)\n",
    "print(java.difference(python))\n",
    "\n",
    "#추가\n",
    "#python을 할 줄 아는 개발자가 늘어남\n",
    "python.add('김태호')\n",
    "print(python)\n",
    "\n",
    "#삭제\n",
    "#java를 까먹은 개발자가 생김\n",
    "java.remove('김태호')\n",
    "print(java)"
   ]
  },
  {
   "attachments": {},
   "cell_type": "markdown",
   "metadata": {},
   "source": [
    "### 자료구조의 변경"
   ]
  },
  {
   "cell_type": "code",
   "execution_count": 165,
   "metadata": {},
   "outputs": [
    {
     "name": "stdout",
     "output_type": "stream",
     "text": [
      "{'커피', '우유', '주스'} <class 'set'>\n",
      "['커피', '우유', '주스'] <class 'list'>\n",
      "('커피', '우유', '주스') <class 'tuple'>\n",
      "{'커피', '우유', '주스'} <class 'set'>\n"
     ]
    }
   ],
   "source": [
    "menu = {'커피', '우유', '주스'}\n",
    "print(menu, type(menu))\n",
    "\n",
    "menu = list(menu)\n",
    "print(menu, type(menu))\n",
    "\n",
    "menu = tuple(menu)\n",
    "print(menu, type(menu))\n",
    "\n",
    "menu = set(menu)\n",
    "print(menu, type(menu))"
   ]
  },
  {
   "attachments": {},
   "cell_type": "markdown",
   "metadata": {},
   "source": [
    "Quiz) 당신의 학교에서는 파이썬 코딩 대회를 주최합니다.\n",
    "- 참석률을 높이기 위해 댓글 이벤트를 진행하기로 하였습니다.\n",
    "- 댓글 작성자들 중에 추첨을 통해 1명은 치킨, 3명은 커피 쿠폰을 받게 됩니다.\n",
    "- 추첨 프로그램을 작성하시오.\n",
    "1. 편의상 댓글은 20명이 작성하였고 아이디는 1~20이라고 가정\n",
    "2. 댓글 내용과 상관없이 무작위로 추첨하되 중복 불가\n",
    "3. random 모듈의 shuffle과 sample을 활용"
   ]
  },
  {
   "cell_type": "markdown",
   "metadata": {},
   "source": [
    "(출력예제)\n",
    "- -- 당첨자 발표 --\n",
    "- 치킨 당첨자: 1\n",
    "- 커피 당첨자: [2, 3, 4]\n",
    "- -- 축하합니다 --\n"
   ]
  },
  {
   "cell_type": "code",
   "execution_count": 187,
   "metadata": {},
   "outputs": [
    {
     "name": "stdout",
     "output_type": "stream",
     "text": [
      "[1, 2, 3, 4, 5]\n",
      "[4, 1, 3, 5, 2]\n",
      "[3]\n"
     ]
    }
   ],
   "source": [
    "#활용예제\n",
    "from random import *\n",
    "lst = [1, 2, 3, 4, 5]\n",
    "print(lst)\n",
    "\n",
    "#shuffle: 리스트 안의 값을 무작위로 섞음\n",
    "shuffle(lst)\n",
    "print(lst)\n",
    "\n",
    "#리스트 안의 원소 중 n개만큼 뽑음\n",
    "print(sample(lst, 1))"
   ]
  },
  {
   "cell_type": "code",
   "execution_count": 200,
   "metadata": {},
   "outputs": [
    {
     "name": "stdout",
     "output_type": "stream",
     "text": [
      "[1, 2, 3, 4, 5, 6, 7, 8, 9, 10, 11, 12, 13, 14, 15, 16, 17, 18, 19, 20]\n",
      "20\n",
      "9\n",
      "[1, 2, 3, 4, 5, 6, 7, 8, 10, 11, 12, 13, 14, 15, 16, 17, 18, 19, 20]\n",
      "19\n",
      "[19, 2, 12, 18, 7, 6, 16, 20, 5, 3, 8, 11, 1, 15, 13, 10, 4, 14, 17]\n",
      "[14, 6, 13]\n",
      "\n",
      "\n",
      "-- 당첨자 발표 --\n",
      "치킨 당첨자:  9\n",
      "커피 당첨자:  [14, 6, 13]\n",
      "-- 축하합니다 --\n"
     ]
    }
   ],
   "source": [
    "from random import *\n",
    "\n",
    "id = list(range(1, 21))\n",
    "print(id)\n",
    "print(len(id))\n",
    "\n",
    "chicken = randrange(1, 21)\n",
    "print(chicken)\n",
    "\n",
    "id.remove(chicken)\n",
    "print(id)\n",
    "print(len(id))\n",
    "\n",
    "shuffle(id)\n",
    "print(id)\n",
    "\n",
    "coffee = sample(id, 3)\n",
    "print(coffee)\n",
    "\n",
    "print(\"\\n\")\n",
    "print(\"-- 당첨자 발표 --\")\n",
    "print(\"치킨 당첨자: \", chicken)\n",
    "print(\"커피 당첨자: \", coffee)\n",
    "print(\"-- 축하합니다 --\")"
   ]
  },
  {
   "cell_type": "code",
   "execution_count": 201,
   "metadata": {},
   "outputs": [
    {
     "name": "stdout",
     "output_type": "stream",
     "text": [
      "[1, 2, 3, 4, 5, 6, 7, 8, 9, 10, 11, 12, 13, 14, 15, 16, 17, 18, 19, 20]\n",
      "[2, 13, 16, 15, 12, 14, 17, 8, 4, 11, 19, 6, 1, 9, 20, 10, 3, 5, 7, 18]\n",
      "-- 당첨자 발표 --\n",
      "치킨 당첨자: 20\n",
      "커피 당첨자: [15, 11, 8]\n",
      "-- 축하합니다 --\n"
     ]
    }
   ],
   "source": [
    "from random import *\n",
    "\n",
    "users = list(range(1, 21))\n",
    "print(users)\n",
    "shuffle(users)\n",
    "print(users)\n",
    "\n",
    "#1명은 치킨, 3명은 커피\n",
    "winners = sample(users, 4)\n",
    "\n",
    "print(\"-- 당첨자 발표 --\")\n",
    "print(\"치킨 당첨자: {0}\".format(winners[0]))\n",
    "print(\"커피 당첨자: {0}\".format(winners[1:]))\n",
    "print(\"-- 축하합니다 --\")"
   ]
  }
 ],
 "metadata": {
  "kernelspec": {
   "display_name": "Python 3",
   "language": "python",
   "name": "python3"
  },
  "language_info": {
   "codemirror_mode": {
    "name": "ipython",
    "version": 3
   },
   "file_extension": ".py",
   "mimetype": "text/x-python",
   "name": "python",
   "nbconvert_exporter": "python",
   "pygments_lexer": "ipython3",
   "version": "3.9.12"
  },
  "orig_nbformat": 4,
  "vscode": {
   "interpreter": {
    "hash": "82ed002fa2d4956f5c6aec99bcefe0f73a9f79882f3c9e2319b14958a5896ac5"
   }
  }
 },
 "nbformat": 4,
 "nbformat_minor": 2
}
